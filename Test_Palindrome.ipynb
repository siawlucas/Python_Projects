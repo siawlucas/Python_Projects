{
 "cells": [
  {
   "cell_type": "code",
   "execution_count": 1,
   "id": "4e74db3c",
   "metadata": {},
   "outputs": [
    {
     "name": "stdout",
     "output_type": "stream",
     "text": [
      "Enter the string = Lucas\n",
      "No, Lucas is not Palindrome. Because when we reversed the string, the result will be sacuL\n"
     ]
    }
   ],
   "source": [
    "def Palindrome(p):\n",
    "  rev = ''.join(reversed(p))\n",
    "\n",
    "  if (p == rev):\n",
    "    return True\n",
    "  return False\n",
    "\n",
    "p = input(\"Enter the string = \")\n",
    "ans = Palindrome(p)\n",
    "tukar = p[::-1]\n",
    "\n",
    "if (ans):\n",
    "  print(\"Yes, \", end='')\n",
    "  print(p, end='')\n",
    "  print(\" is Palindrome. Because when we reversed the string,\", end='')\n",
    "  print(\" the result will be \", end='')\n",
    "  print(tukar)\n",
    "else:\n",
    "  print(\"No, \", end='')\n",
    "  print(p, end='')\n",
    "  print(\" is not Palindrome. Because when we reversed the string,\", end='')\n",
    "  print(\" the result will be \", end='')\n",
    "  print(tukar)"
   ]
  },
  {
   "cell_type": "code",
   "execution_count": null,
   "id": "b5dbd54b",
   "metadata": {},
   "outputs": [],
   "source": []
  }
 ],
 "metadata": {
  "kernelspec": {
   "display_name": "Python 3 (ipykernel)",
   "language": "python",
   "name": "python3"
  },
  "language_info": {
   "codemirror_mode": {
    "name": "ipython",
    "version": 3
   },
   "file_extension": ".py",
   "mimetype": "text/x-python",
   "name": "python",
   "nbconvert_exporter": "python",
   "pygments_lexer": "ipython3",
   "version": "3.9.12"
  }
 },
 "nbformat": 4,
 "nbformat_minor": 5
}
